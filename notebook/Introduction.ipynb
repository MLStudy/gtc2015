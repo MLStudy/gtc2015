{
 "metadata": {
  "name": "",
  "signature": "sha256:50c4da67d887512b7e155af1407ef0e49864e2d01f80f0713a5278a5a1fdfd12"
 },
 "nbformat": 3,
 "nbformat_minor": 0,
 "worksheets": [
  {
   "cells": [
    {
     "cell_type": "markdown",
     "metadata": {},
     "source": [
      "This directory contain ipython notebooks for the GTC 2015 Theano hands-on lab:\n",
      "\n",
      "- Introduction (this notebook): introductory notebook\n",
      "- Exercices: notebook that contain exercices specific to Theano without machine learning\n",
      "- lenet: notebook that demonstrates the LeNet (basic convolutional example) model\n",
      "\n",
      "The slides are available at https://raw.githubusercontent.com/nouiz/gtc2015/master/S5732_FredericBastien.pdf\n",
      "\n",
      "The GitHub repository: https://github.com/nouiz/gtc2015\n",
      "\n",
      "See the top of the notebook for explanation regarding how they should be used.\n",
      "\n",
      "You can run a cell that contains code with CTRL-enter when that cell is selected"
     ]
    }
   ],
   "metadata": {}
  }
 ]
}
