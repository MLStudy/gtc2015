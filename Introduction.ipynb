{
 "metadata": {
  "name": "",
  "signature": "sha256:87a3abab90856f28c626681689fd45e5e72f22a26c584e09aca95ca413e725cf"
 },
 "nbformat": 3,
 "nbformat_minor": 0,
 "worksheets": [
  {
   "cells": [
    {
     "cell_type": "markdown",
     "metadata": {},
     "source": [
      "This directory contain ipython notebook for the GTC 2015 Theano hands-on lab:\n",
      "\n",
      "- Introduction (this notebook): introductory notebook\n",
      "- Exercices: notebook that contain exercices specific to Theano without machine learning\n",
      "- lenet: notebook that demonstrates the LeNet (basic convolutional example) model\n",
      "\n",
      "The slides are available at https://raw.githubusercontent.com/nouiz/gtc2015/master/presentation.pdf\n",
      "\n",
      "See the top of the notebook for explanation regarding how they should be used.\n",
      "\n",
      "You can run a cell that contains code with CTRL-enter when that cell is selected"
     ]
    }
   ],
   "metadata": {}
  }
 ]
}
